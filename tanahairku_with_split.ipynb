{
  "nbformat": 4,
  "nbformat_minor": 0,
  "metadata": {
    "kernelspec": {
      "display_name": "Python 3",
      "language": "python",
      "name": "python3"
    },
    "language_info": {
      "codemirror_mode": {
        "name": "ipython",
        "version": 3
      },
      "file_extension": ".py",
      "mimetype": "text/x-python",
      "name": "python",
      "nbconvert_exporter": "python",
      "pygments_lexer": "ipython3",
      "version": "3.7.4"
    },
    "colab": {
      "name": "tanahairku_with_split.ipynb",
      "provenance": [],
      "collapsed_sections": [],
      "include_colab_link": true
    }
  },
  "cells": [
    {
      "cell_type": "markdown",
      "metadata": {
        "id": "view-in-github",
        "colab_type": "text"
      },
      "source": [
        "<a href=\"https://colab.research.google.com/github/dikisp/PWA-/blob/master/tanahairku_with_split.ipynb\" target=\"_parent\"><img src=\"https://colab.research.google.com/assets/colab-badge.svg\" alt=\"Open In Colab\"/></a>"
      ]
    },
    {
      "cell_type": "code",
      "metadata": {
        "id": "xQzkqcHHiC_f",
        "colab_type": "code",
        "colab": {}
      },
      "source": [
        "import pandas as pd\n",
        "import numpy as np\n",
        "import matplotlib.pyplot as plt\n",
        "from wordcloud import WordCloud\n",
        "import csv\n",
        "from collections import defaultdict\n",
        "import re\n",
        "import json\n",
        "\n",
        "\n",
        "\n",
        "from scipy.stats import pearsonr\n",
        "\n",
        "from matplotlib.colors import ListedColormap\n",
        "from scipy import stats\n",
        "\n",
        "from wordcloud import WordCloud\n",
        "\n",
        "\n",
        "from sklearn.cluster import KMeans\n",
        "\n",
        "from sklearn.preprocessing import MinMaxScaler"
      ],
      "execution_count": null,
      "outputs": []
    },
    {
      "cell_type": "code",
      "metadata": {
        "id": "xvwsnQ9sRxdl",
        "colab_type": "code",
        "colab": {
          "base_uri": "https://localhost:8080/",
          "height": 54
        },
        "outputId": "e0f3b2d5-dc14-400e-c262-9a1d99c5958c"
      },
      "source": [
        "from google.colab import drive\n",
        "drive.mount('/content/drive')"
      ],
      "execution_count": null,
      "outputs": [
        {
          "output_type": "stream",
          "text": [
            "Drive already mounted at /content/drive; to attempt to forcibly remount, call drive.mount(\"/content/drive\", force_remount=True).\n"
          ],
          "name": "stdout"
        }
      ]
    },
    {
      "cell_type": "code",
      "metadata": {
        "id": "4UTEBT3LiC_m",
        "colab_type": "code",
        "colab": {
          "base_uri": "https://localhost:8080/",
          "height": 513
        },
        "outputId": "798a88c5-de7f-4be8-c63a-ef1d865a1a8f"
      },
      "source": [
        "!pip3 install firebase_admin"
      ],
      "execution_count": null,
      "outputs": [
        {
          "output_type": "stream",
          "text": [
            "Requirement already satisfied: firebase_admin in /usr/local/lib/python3.6/dist-packages (4.1.0)\n",
            "Requirement already satisfied: cachecontrol>=0.12.6 in /usr/local/lib/python3.6/dist-packages (from firebase_admin) (0.12.6)\n",
            "Requirement already satisfied: google-api-python-client>=1.7.8 in /usr/local/lib/python3.6/dist-packages (from firebase_admin) (1.7.12)\n",
            "Requirement already satisfied: google-api-core[grpc]<2.0.0dev,>=1.14.0; platform_python_implementation != \"PyPy\" in /usr/local/lib/python3.6/dist-packages (from firebase_admin) (1.16.0)\n",
            "Requirement already satisfied: google-cloud-firestore>=1.4.0; platform_python_implementation != \"PyPy\" in /usr/local/lib/python3.6/dist-packages (from firebase_admin) (1.7.0)\n",
            "Requirement already satisfied: google-cloud-storage>=1.18.0 in /usr/local/lib/python3.6/dist-packages (from firebase_admin) (1.18.1)\n",
            "Requirement already satisfied: requests in /usr/local/lib/python3.6/dist-packages (from cachecontrol>=0.12.6->firebase_admin) (2.23.0)\n",
            "Requirement already satisfied: msgpack>=0.5.2 in /usr/local/lib/python3.6/dist-packages (from cachecontrol>=0.12.6->firebase_admin) (1.0.0)\n",
            "Requirement already satisfied: google-auth-httplib2>=0.0.3 in /usr/local/lib/python3.6/dist-packages (from google-api-python-client>=1.7.8->firebase_admin) (0.0.4)\n",
            "Requirement already satisfied: httplib2<1dev,>=0.17.0 in /usr/local/lib/python3.6/dist-packages (from google-api-python-client>=1.7.8->firebase_admin) (0.17.4)\n",
            "Requirement already satisfied: google-auth>=1.4.1 in /usr/local/lib/python3.6/dist-packages (from google-api-python-client>=1.7.8->firebase_admin) (1.17.2)\n",
            "Requirement already satisfied: six<2dev,>=1.6.1 in /usr/local/lib/python3.6/dist-packages (from google-api-python-client>=1.7.8->firebase_admin) (1.12.0)\n",
            "Requirement already satisfied: uritemplate<4dev,>=3.0.0 in /usr/local/lib/python3.6/dist-packages (from google-api-python-client>=1.7.8->firebase_admin) (3.0.1)\n",
            "Requirement already satisfied: pytz in /usr/local/lib/python3.6/dist-packages (from google-api-core[grpc]<2.0.0dev,>=1.14.0; platform_python_implementation != \"PyPy\"->firebase_admin) (2018.9)\n",
            "Requirement already satisfied: googleapis-common-protos<2.0dev,>=1.6.0 in /usr/local/lib/python3.6/dist-packages (from google-api-core[grpc]<2.0.0dev,>=1.14.0; platform_python_implementation != \"PyPy\"->firebase_admin) (1.52.0)\n",
            "Requirement already satisfied: protobuf>=3.4.0 in /usr/local/lib/python3.6/dist-packages (from google-api-core[grpc]<2.0.0dev,>=1.14.0; platform_python_implementation != \"PyPy\"->firebase_admin) (3.10.0)\n",
            "Requirement already satisfied: setuptools>=34.0.0 in /usr/local/lib/python3.6/dist-packages (from google-api-core[grpc]<2.0.0dev,>=1.14.0; platform_python_implementation != \"PyPy\"->firebase_admin) (49.1.0)\n",
            "Requirement already satisfied: grpcio<2.0dev,>=1.8.2; extra == \"grpc\" in /usr/local/lib/python3.6/dist-packages (from google-api-core[grpc]<2.0.0dev,>=1.14.0; platform_python_implementation != \"PyPy\"->firebase_admin) (1.30.0)\n",
            "Requirement already satisfied: google-cloud-core<2.0dev,>=1.0.3 in /usr/local/lib/python3.6/dist-packages (from google-cloud-firestore>=1.4.0; platform_python_implementation != \"PyPy\"->firebase_admin) (1.0.3)\n",
            "Requirement already satisfied: google-resumable-media<0.5.0dev,>=0.3.1 in /usr/local/lib/python3.6/dist-packages (from google-cloud-storage>=1.18.0->firebase_admin) (0.4.1)\n",
            "Requirement already satisfied: idna<3,>=2.5 in /usr/local/lib/python3.6/dist-packages (from requests->cachecontrol>=0.12.6->firebase_admin) (2.10)\n",
            "Requirement already satisfied: chardet<4,>=3.0.2 in /usr/local/lib/python3.6/dist-packages (from requests->cachecontrol>=0.12.6->firebase_admin) (3.0.4)\n",
            "Requirement already satisfied: certifi>=2017.4.17 in /usr/local/lib/python3.6/dist-packages (from requests->cachecontrol>=0.12.6->firebase_admin) (2020.6.20)\n",
            "Requirement already satisfied: urllib3!=1.25.0,!=1.25.1,<1.26,>=1.21.1 in /usr/local/lib/python3.6/dist-packages (from requests->cachecontrol>=0.12.6->firebase_admin) (1.24.3)\n",
            "Requirement already satisfied: rsa<5,>=3.1.4; python_version >= \"3\" in /usr/local/lib/python3.6/dist-packages (from google-auth>=1.4.1->google-api-python-client>=1.7.8->firebase_admin) (4.6)\n",
            "Requirement already satisfied: pyasn1-modules>=0.2.1 in /usr/local/lib/python3.6/dist-packages (from google-auth>=1.4.1->google-api-python-client>=1.7.8->firebase_admin) (0.2.8)\n",
            "Requirement already satisfied: cachetools<5.0,>=2.0.0 in /usr/local/lib/python3.6/dist-packages (from google-auth>=1.4.1->google-api-python-client>=1.7.8->firebase_admin) (4.1.1)\n",
            "Requirement already satisfied: pyasn1>=0.1.3 in /usr/local/lib/python3.6/dist-packages (from rsa<5,>=3.1.4; python_version >= \"3\"->google-auth>=1.4.1->google-api-python-client>=1.7.8->firebase_admin) (0.4.8)\n"
          ],
          "name": "stdout"
        }
      ]
    },
    {
      "cell_type": "code",
      "metadata": {
        "id": "YVciJDwNiC_q",
        "colab_type": "code",
        "colab": {}
      },
      "source": [
        "import firebase_admin\n",
        "from firebase_admin import credentials, db"
      ],
      "execution_count": null,
      "outputs": []
    },
    {
      "cell_type": "code",
      "metadata": {
        "id": "8DahjddaijDA",
        "colab_type": "code",
        "colab": {
          "base_uri": "https://localhost:8080/",
          "height": 34
        },
        "outputId": "961c83cc-9b00-4642-8245-b002b6127f8c"
      },
      "source": [
        "cred = credentials.Certificate(\"sdk-firebase.json\")\n",
        "firebase_admin.initialize_app(cred, {\n",
        "    'databaseURL' : 'https://tanahairku-experimental-cl.firebaseio.com/'\n",
        "})"
      ],
      "execution_count": null,
      "outputs": [
        {
          "output_type": "execute_result",
          "data": {
            "text/plain": [
              "<firebase_admin.App at 0x7f4e81adf198>"
            ]
          },
          "metadata": {
            "tags": []
          },
          "execution_count": 5
        }
      ]
    },
    {
      "cell_type": "code",
      "metadata": {
        "id": "g_KyyZ0riC_u",
        "colab_type": "code",
        "colab": {}
      },
      "source": [
        "ref = firebase_admin.db.reference(\"/users\")\n",
        "\n",
        "data = ref.get()\n",
        "log_data = []\n",
        "for userid in data:\n",
        "   for id_log in data[userid]['log'] :\n",
        "     log_data.append([\n",
        "       data[userid]['log'][id_log]['Date'],\n",
        "       id_log,\n",
        "       data[userid]['log'][id_log]['Items_Interval'],\n",
        "       data[userid]['log'][id_log]['Items_Log'],\n",
        "     ])\n",
        "\n",
        "# log_data\n"
      ],
      "execution_count": null,
      "outputs": []
    },
    {
      "cell_type": "code",
      "metadata": {
        "id": "HjEfKGquiC_z",
        "colab_type": "code",
        "colab": {}
      },
      "source": [
        "df=pd.DataFrame(log_data)"
      ],
      "execution_count": null,
      "outputs": []
    },
    {
      "cell_type": "code",
      "metadata": {
        "id": "EOlQ-x_oiC_2",
        "colab_type": "code",
        "colab": {}
      },
      "source": [
        "new_names = {0 : 'tgl_akses',\n",
        "             1 : 'id_user',\n",
        "             2 : 'durasiAkses',\n",
        "             3 : 'konten'\n",
        "            }\n",
        "df.rename(columns=new_names, inplace=True)"
      ],
      "execution_count": null,
      "outputs": []
    },
    {
      "cell_type": "code",
      "metadata": {
        "id": "rvlqbg2RiC_6",
        "colab_type": "code",
        "colab": {}
      },
      "source": [
        "# # #mengisi yang nan\n",
        "df = df[pd.notnull(df['durasiAkses'])]"
      ],
      "execution_count": null,
      "outputs": []
    },
    {
      "cell_type": "code",
      "metadata": {
        "id": "a0GVeYMGiC_-",
        "colab_type": "code",
        "colab": {}
      },
      "source": [
        "# #drop 0\n",
        "drop_0=df.index[df[\"durasiAkses\"] == '0'].tolist()\n",
        "df=df.drop(df.index[drop_0])"
      ],
      "execution_count": null,
      "outputs": []
    },
    {
      "cell_type": "code",
      "metadata": {
        "id": "FBZIGEFIsP0m",
        "colab_type": "code",
        "colab": {}
      },
      "source": [
        ""
      ],
      "execution_count": null,
      "outputs": []
    },
    {
      "cell_type": "code",
      "metadata": {
        "id": "ZHbcrsjRiDAC",
        "colab_type": "code",
        "colab": {}
      },
      "source": [
        "df_konten_list = df['konten'].tolist()"
      ],
      "execution_count": null,
      "outputs": []
    },
    {
      "cell_type": "code",
      "metadata": {
        "id": "GsjGVdtLiDAG",
        "colab_type": "code",
        "colab": {}
      },
      "source": [
        "def listToString(s):  \n",
        "    \n",
        "    # initialize an empty string \n",
        "    str1 = \"\"    \n",
        "    # traverse in the string   \n",
        "    for ele in s:  \n",
        "        str1 += ele       \n",
        "    # return string   \n",
        "    return str1         \n",
        "# Driver code     \n",
        "s = df_konten_list\n",
        "result_list_konten = listToString(s)\n",
        "res_konten = result_list_konten.split(',')"
      ],
      "execution_count": null,
      "outputs": []
    },
    {
      "cell_type": "code",
      "metadata": {
        "id": "2HKc2pIht1nO",
        "colab_type": "code",
        "colab": {}
      },
      "source": [
        ""
      ],
      "execution_count": null,
      "outputs": []
    },
    {
      "cell_type": "code",
      "metadata": {
        "id": "8VhgUQpgiDAL",
        "colab_type": "code",
        "colab": {}
      },
      "source": [
        "#hilaingin start\n",
        "string = result_list_konten\n",
        "hasil_stirng = string.replace('START,',',')\n",
        "del_start = hasil_stirng.split(',')"
      ],
      "execution_count": null,
      "outputs": []
    },
    {
      "cell_type": "code",
      "metadata": {
        "id": "UYJ5sZFHiDAP",
        "colab_type": "code",
        "colab": {}
      },
      "source": [
        "df_interval_list = df['durasiAkses'].tolist()\n",
        "def listToString(s):  \n",
        "    \n",
        "    # initialize an empty string \n",
        "    str1 = \"\"    \n",
        "    # traverse in the string   \n",
        "    for ele in s:  \n",
        "        str1 += ele       \n",
        "    # return string   \n",
        "    return str1         \n",
        "# Driver code     \n",
        "s = df_interval_list\n",
        "result_list_interval = listToString(s)\n",
        "\n",
        "\n",
        "#str split\n",
        "res_interval = result_list_interval.split(',')\n"
      ],
      "execution_count": null,
      "outputs": []
    },
    {
      "cell_type": "code",
      "metadata": {
        "id": "v1azsUv0iDAU",
        "colab_type": "code",
        "colab": {}
      },
      "source": [
        "#regex for del end char\n",
        "# for i in result_list_interval:\n",
        "#     len_char = len(i)\n",
        "#     print(len_char)  "
      ],
      "execution_count": null,
      "outputs": []
    },
    {
      "cell_type": "code",
      "metadata": {
        "id": "dMNWnF5eiDAY",
        "colab_type": "code",
        "colab": {}
      },
      "source": [
        "#list to dataframe konten\n",
        "df_res_konten = pd.DataFrame(del_start)\n",
        "\n",
        "#list to dataframe interval\n",
        "df_res_interval = pd.DataFrame(res_interval)\n",
        "df_res_interval\n",
        "\n",
        "#tglakses\n",
        "tglakses = df.tgl_akses\n",
        "#user_id\n",
        "user_id = df.id_user\n",
        "\n",
        "# concat keduanya\n",
        "result_finish = pd.concat([tglakses,user_id,df_res_konten, df_res_interval], axis=1, sort=False)\n",
        "df = result_finish"
      ],
      "execution_count": null,
      "outputs": []
    },
    {
      "cell_type": "code",
      "metadata": {
        "id": "Gyp87iwZpES5",
        "colab_type": "code",
        "colab": {
          "base_uri": "https://localhost:8080/",
          "height": 419
        },
        "outputId": "ccef2125-98bb-4e22-986e-5cb3c764a2fc"
      },
      "source": [
        "df"
      ],
      "execution_count": null,
      "outputs": [
        {
          "output_type": "execute_result",
          "data": {
            "text/html": [
              "<div>\n",
              "<style scoped>\n",
              "    .dataframe tbody tr th:only-of-type {\n",
              "        vertical-align: middle;\n",
              "    }\n",
              "\n",
              "    .dataframe tbody tr th {\n",
              "        vertical-align: top;\n",
              "    }\n",
              "\n",
              "    .dataframe thead th {\n",
              "        text-align: right;\n",
              "    }\n",
              "</style>\n",
              "<table border=\"1\" class=\"dataframe\">\n",
              "  <thead>\n",
              "    <tr style=\"text-align: right;\">\n",
              "      <th></th>\n",
              "      <th>tgl_akses</th>\n",
              "      <th>id_user</th>\n",
              "      <th>0</th>\n",
              "      <th>0</th>\n",
              "    </tr>\n",
              "  </thead>\n",
              "  <tbody>\n",
              "    <tr>\n",
              "      <th>0</th>\n",
              "      <td>NaN</td>\n",
              "      <td>NaN</td>\n",
              "      <td></td>\n",
              "      <td>0</td>\n",
              "    </tr>\n",
              "    <tr>\n",
              "      <th>1</th>\n",
              "      <td>13-02-2020</td>\n",
              "      <td>-M-wZQJsrdMbk7RBbm8y</td>\n",
              "      <td>Pakaian_Asmat</td>\n",
              "      <td>47</td>\n",
              "    </tr>\n",
              "    <tr>\n",
              "      <th>2</th>\n",
              "      <td>NaN</td>\n",
              "      <td>NaN</td>\n",
              "      <td>Rumah_Asmat</td>\n",
              "      <td>30</td>\n",
              "    </tr>\n",
              "    <tr>\n",
              "      <th>3</th>\n",
              "      <td>NaN</td>\n",
              "      <td>NaN</td>\n",
              "      <td>Senjata_Asmat</td>\n",
              "      <td>1</td>\n",
              "    </tr>\n",
              "    <tr>\n",
              "      <th>4</th>\n",
              "      <td>NaN</td>\n",
              "      <td>NaN</td>\n",
              "      <td>Senjata_Asmat</td>\n",
              "      <td>28</td>\n",
              "    </tr>\n",
              "    <tr>\n",
              "      <th>...</th>\n",
              "      <td>...</td>\n",
              "      <td>...</td>\n",
              "      <td>...</td>\n",
              "      <td>...</td>\n",
              "    </tr>\n",
              "    <tr>\n",
              "      <th>490</th>\n",
              "      <td>NaN</td>\n",
              "      <td>NaN</td>\n",
              "      <td>Senjata_Asmat</td>\n",
              "      <td>116</td>\n",
              "    </tr>\n",
              "    <tr>\n",
              "      <th>491</th>\n",
              "      <td>NaN</td>\n",
              "      <td>NaN</td>\n",
              "      <td>Senjata_Asmat</td>\n",
              "      <td>4</td>\n",
              "    </tr>\n",
              "    <tr>\n",
              "      <th>492</th>\n",
              "      <td>NaN</td>\n",
              "      <td>NaN</td>\n",
              "      <td>Musik_Asmat</td>\n",
              "      <td>6</td>\n",
              "    </tr>\n",
              "    <tr>\n",
              "      <th>493</th>\n",
              "      <td>NaN</td>\n",
              "      <td>NaN</td>\n",
              "      <td>Musik_Asmat</td>\n",
              "      <td>0</td>\n",
              "    </tr>\n",
              "    <tr>\n",
              "      <th>494</th>\n",
              "      <td>NaN</td>\n",
              "      <td>NaN</td>\n",
              "      <td>Musik_Asmat</td>\n",
              "      <td>5</td>\n",
              "    </tr>\n",
              "  </tbody>\n",
              "</table>\n",
              "<p>495 rows × 4 columns</p>\n",
              "</div>"
            ],
            "text/plain": [
              "      tgl_akses               id_user               0     0\n",
              "0           NaN                   NaN                     0\n",
              "1    13-02-2020  -M-wZQJsrdMbk7RBbm8y   Pakaian_Asmat    47\n",
              "2           NaN                   NaN     Rumah_Asmat    30\n",
              "3           NaN                   NaN   Senjata_Asmat     1\n",
              "4           NaN                   NaN   Senjata_Asmat    28\n",
              "..          ...                   ...             ...   ...\n",
              "490         NaN                   NaN   Senjata_Asmat   116\n",
              "491         NaN                   NaN   Senjata_Asmat     4\n",
              "492         NaN                   NaN     Musik_Asmat     6\n",
              "493         NaN                   NaN     Musik_Asmat     0\n",
              "494         NaN                   NaN     Musik_Asmat     5\n",
              "\n",
              "[495 rows x 4 columns]"
            ]
          },
          "metadata": {
            "tags": []
          },
          "execution_count": 17
        }
      ]
    },
    {
      "cell_type": "code",
      "metadata": {
        "id": "XFjd_lgQiDAd",
        "colab_type": "code",
        "colab": {}
      },
      "source": [
        "df.columns = ['tgl_akses','id_user','konten','interval']"
      ],
      "execution_count": null,
      "outputs": []
    },
    {
      "cell_type": "code",
      "metadata": {
        "id": "C9UYyuo4sxjt",
        "colab_type": "code",
        "colab": {}
      },
      "source": [
        ""
      ],
      "execution_count": null,
      "outputs": []
    },
    {
      "cell_type": "code",
      "metadata": {
        "id": "K7ifKKGMiDAh",
        "colab_type": "code",
        "colab": {}
      },
      "source": [
        "#hapus empty value\n",
        "del_empty = df['konten'] != ''\n",
        "df  = df[del_empty]"
      ],
      "execution_count": null,
      "outputs": []
    },
    {
      "cell_type": "code",
      "metadata": {
        "id": "OTTFu8EriDA0",
        "colab_type": "code",
        "colab": {
          "base_uri": "https://localhost:8080/",
          "height": 122
        },
        "outputId": "88504f59-24e1-47db-a73e-7be50b3e52c1"
      },
      "source": [
        "def clean_outlier(time): \n",
        "    # Search for opening bracket in the name followed by \n",
        "    # any characters repeated any number of times \n",
        "    if re.search('\\d{3}', time): \n",
        "  \n",
        "        # Extract the position of beginning of pattern \n",
        "        pos = re.search('\\d', time.strip('')).start() \n",
        "  \n",
        "        # return the cleaned name \n",
        "        return time[:pos] \n",
        "  \n",
        "    else: \n",
        "        # if clean up needed return the same name \n",
        "        return time \n",
        "          \n",
        "# Updated the city columns \n",
        "df['time'] = df['interval'].apply(clean_outlier) \n",
        "  \n",
        "# Print the updated dataframe "
      ],
      "execution_count": null,
      "outputs": [
        {
          "output_type": "stream",
          "text": [
            "/usr/local/lib/python3.6/dist-packages/ipykernel_launcher.py:17: SettingWithCopyWarning: \n",
            "A value is trying to be set on a copy of a slice from a DataFrame.\n",
            "Try using .loc[row_indexer,col_indexer] = value instead\n",
            "\n",
            "See the caveats in the documentation: https://pandas.pydata.org/pandas-docs/stable/user_guide/indexing.html#returning-a-view-versus-a-copy\n"
          ],
          "name": "stderr"
        }
      ]
    },
    {
      "cell_type": "markdown",
      "metadata": {
        "id": "tJ9kJrOKiDA4",
        "colab_type": "text"
      },
      "source": [
        "df['interval'][:15]"
      ]
    },
    {
      "cell_type": "code",
      "metadata": {
        "id": "ypiC09lYiDA5",
        "colab_type": "code",
        "colab": {}
      },
      "source": [
        "#select with regex\n",
        "# a = df[df.interval.str.contains('\\d{3}', regex= True, na=False)]\n",
        "\n",
        "del df['interval']"
      ],
      "execution_count": null,
      "outputs": []
    },
    {
      "cell_type": "code",
      "metadata": {
        "id": "sDysQ8h5iDA9",
        "colab_type": "code",
        "colab": {
          "base_uri": "https://localhost:8080/",
          "height": 139
        },
        "outputId": "ef5ad7ea-af95-4535-8a0d-d96d47778fcc"
      },
      "source": [
        "#delete blank space\n",
        "df.time = df.time.str.replace(' ', '')"
      ],
      "execution_count": null,
      "outputs": [
        {
          "output_type": "stream",
          "text": [
            "/usr/local/lib/python3.6/dist-packages/pandas/core/generic.py:5303: SettingWithCopyWarning: \n",
            "A value is trying to be set on a copy of a slice from a DataFrame.\n",
            "Try using .loc[row_indexer,col_indexer] = value instead\n",
            "\n",
            "See the caveats in the documentation: https://pandas.pydata.org/pandas-docs/stable/user_guide/indexing.html#returning-a-view-versus-a-copy\n",
            "  self[name] = value\n"
          ],
          "name": "stderr"
        }
      ]
    },
    {
      "cell_type": "code",
      "metadata": {
        "id": "53Zx3yQIiDBB",
        "colab_type": "code",
        "colab": {
          "base_uri": "https://localhost:8080/",
          "height": 139
        },
        "outputId": "321ac1de-5e5b-4d9e-c64d-83d245b9d454"
      },
      "source": [
        "df.time =  df.time.str.lstrip()"
      ],
      "execution_count": null,
      "outputs": [
        {
          "output_type": "stream",
          "text": [
            "/usr/local/lib/python3.6/dist-packages/pandas/core/generic.py:5303: SettingWithCopyWarning: \n",
            "A value is trying to be set on a copy of a slice from a DataFrame.\n",
            "Try using .loc[row_indexer,col_indexer] = value instead\n",
            "\n",
            "See the caveats in the documentation: https://pandas.pydata.org/pandas-docs/stable/user_guide/indexing.html#returning-a-view-versus-a-copy\n",
            "  self[name] = value\n"
          ],
          "name": "stderr"
        }
      ]
    },
    {
      "cell_type": "code",
      "metadata": {
        "id": "FfQVeyO7iDBF",
        "colab_type": "code",
        "colab": {
          "base_uri": "https://localhost:8080/",
          "height": 139
        },
        "outputId": "60d7cb6d-11b5-49bc-92be-b20f34a22671"
      },
      "source": [
        "df.time =  df.time.str.rstrip()"
      ],
      "execution_count": null,
      "outputs": [
        {
          "output_type": "stream",
          "text": [
            "/usr/local/lib/python3.6/dist-packages/pandas/core/generic.py:5303: SettingWithCopyWarning: \n",
            "A value is trying to be set on a copy of a slice from a DataFrame.\n",
            "Try using .loc[row_indexer,col_indexer] = value instead\n",
            "\n",
            "See the caveats in the documentation: https://pandas.pydata.org/pandas-docs/stable/user_guide/indexing.html#returning-a-view-versus-a-copy\n",
            "  self[name] = value\n"
          ],
          "name": "stderr"
        }
      ]
    },
    {
      "cell_type": "code",
      "metadata": {
        "id": "xPkbd_JFiDBP",
        "colab_type": "code",
        "colab": {}
      },
      "source": [
        "# replace '' np nan\n",
        "new_time = df.time.replace('','15')"
      ],
      "execution_count": null,
      "outputs": []
    },
    {
      "cell_type": "code",
      "metadata": {
        "id": "jNbqcCHLiDBS",
        "colab_type": "code",
        "colab": {
          "base_uri": "https://localhost:8080/",
          "height": 139
        },
        "outputId": "d8ff190b-b522-4b88-c21d-8783fee86d85"
      },
      "source": [
        "df.time = new_time"
      ],
      "execution_count": null,
      "outputs": [
        {
          "output_type": "stream",
          "text": [
            "/usr/local/lib/python3.6/dist-packages/pandas/core/generic.py:5303: SettingWithCopyWarning: \n",
            "A value is trying to be set on a copy of a slice from a DataFrame.\n",
            "Try using .loc[row_indexer,col_indexer] = value instead\n",
            "\n",
            "See the caveats in the documentation: https://pandas.pydata.org/pandas-docs/stable/user_guide/indexing.html#returning-a-view-versus-a-copy\n",
            "  self[name] = value\n"
          ],
          "name": "stderr"
        }
      ]
    },
    {
      "cell_type": "code",
      "metadata": {
        "id": "hfcHqIcmiDBX",
        "colab_type": "code",
        "colab": {}
      },
      "source": [
        "# df.time.astype(int)"
      ],
      "execution_count": null,
      "outputs": []
    },
    {
      "cell_type": "code",
      "metadata": {
        "id": "AtYf7qO5IXr9",
        "colab_type": "code",
        "colab": {}
      },
      "source": [
        ""
      ],
      "execution_count": null,
      "outputs": []
    },
    {
      "cell_type": "code",
      "metadata": {
        "id": "EfRdv5XdiDBZ",
        "colab_type": "code",
        "colab": {}
      },
      "source": [
        "df.reset_index(drop=True, inplace=True)"
      ],
      "execution_count": null,
      "outputs": []
    },
    {
      "cell_type": "markdown",
      "metadata": {
        "id": "4p2yTYSyM4tM",
        "colab_type": "text"
      },
      "source": [
        ""
      ]
    },
    {
      "cell_type": "code",
      "metadata": {
        "id": "n5vmNFrmrXD-",
        "colab_type": "code",
        "colab": {
          "base_uri": "https://localhost:8080/",
          "height": 139
        },
        "outputId": "222af7ff-0b89-4eff-a36e-86d5a9555394"
      },
      "source": [
        "df.konten = df.konten.str.replace(' ','')"
      ],
      "execution_count": null,
      "outputs": [
        {
          "output_type": "stream",
          "text": [
            "/usr/local/lib/python3.6/dist-packages/pandas/core/generic.py:5303: SettingWithCopyWarning: \n",
            "A value is trying to be set on a copy of a slice from a DataFrame.\n",
            "Try using .loc[row_indexer,col_indexer] = value instead\n",
            "\n",
            "See the caveats in the documentation: https://pandas.pydata.org/pandas-docs/stable/user_guide/indexing.html#returning-a-view-versus-a-copy\n",
            "  self[name] = value\n"
          ],
          "name": "stderr"
        }
      ]
    },
    {
      "cell_type": "code",
      "metadata": {
        "id": "_CBBQKD6wckW",
        "colab_type": "code",
        "colab": {
          "base_uri": "https://localhost:8080/",
          "height": 197
        },
        "outputId": "a7d3b5b7-5ff5-457e-9ca5-b3f67f58db67"
      },
      "source": [
        "#aceh\n",
        "rumah_aceh   = df['konten'] == 'Rumah_Aceh'\n",
        "pakaian_aceh = df['konten'] == 'Pakaian_Aceh'\n",
        "senjata_aceh = df['konten'] == 'Senjata_Aceh'\n",
        "musik_aceh   = df['konten'] == 'Musik_Aceh'\n",
        "makanan_aceh = df['konten'] == 'Makanan_Aceh'\n",
        "\n",
        "#asmat\n",
        "rumah_asmat   = df['konten'] == 'Rumah_Asmat'\n",
        "senjata_asmat = df['konten'] == 'Senjata_Asmat'\n",
        "musik_asmat   = df['konten'] == 'Musik_Asmat'\n",
        "makanan_asmat = df['konten'] == 'Makanan_Asmat'\n",
        "pakaian_asmat = df['konten'] == 'Pakaian_Asmat'\n",
        "\n",
        "#bali\n",
        "rumah_bali   = df['konten'] == 'Rumah_Bali'\n",
        "senjata_bali = df['konten'] == 'Senjata_Bali'\n",
        "musik_bali   = df['konten'] == 'Musik_Bali'\n",
        "makanan_bali = df['konten'] == 'Makanan_Bali'\n",
        "pakaian_bali = df['konten'] == 'Pakaian_Bali'\n",
        "\n",
        "#dayak \n",
        "rumah_dayak   = df['konten'] == 'Rumah_Dayak'\n",
        "senjata_dayak = df['konten'] == 'Senjata_Dayak'\n",
        "musik_dayak   = df['konten'] == 'Musik_Dayak'\n",
        "makanan_dayak = df['konten'] == 'Makanan_Dayak'\n",
        "pakaian_dayak = df['konten'] == 'Pakaian_Dayak'\n",
        "\n",
        "#sunda\n",
        "rumah_sunda   = df['konten'] == 'Rumah_Sunda'\n",
        "senjata_sunda = df['konten'] == 'Senjata_Sunda'\n",
        "musik_sunda   = df['konten'] == 'Musik_Sunda'\n",
        "makanan_sunda = df['konten'] == 'Makanan_Sunda'\n",
        "pakaian_sunda = df['konten'] == 'Pakaian_Sunda'\n",
        "\n",
        "#toraja\n",
        "rumah_toraja   = df['konten'] == 'Rumah_Toraja'\n",
        "senjata_toraja = df['konten'] == 'Senjata_Toraja'\n",
        "musik_toraja   = df['konten'] == 'Musik_Toraja'\n",
        "makanan_toraja = df['konten'] == 'Makanan_Toraja'\n",
        "pakaian_toraja = df['konten'] == 'Pakaian_Toraja'\n",
        "a = df[pakaian_toraja].time\n",
        "b = df[pakaian_aceh].time\n",
        "hasil_a = pd.DataFrame(a)\n",
        "hasil_b = pd.DataFrame(b)\n",
        "test_a = np.array(hasil_a)\n",
        "test_b = np.array(hasil_b)\n",
        "# test_a.corr(test_b, method='pearson')\n",
        "# hasil_a.corr(hasil_b,method='pearson')"
      ],
      "execution_count": null,
      "outputs": [
        {
          "output_type": "error",
          "ename": "TypeError",
          "evalue": "ignored",
          "traceback": [
            "\u001b[0;31m---------------------------------------------------------------------------\u001b[0m",
            "\u001b[0;31mTypeError\u001b[0m                                 Traceback (most recent call last)",
            "\u001b[0;32m<ipython-input-36-bd0a8388a2ff>\u001b[0m in \u001b[0;36m<module>\u001b[0;34m()\u001b[0m\n\u001b[1;32m     47\u001b[0m \u001b[0mtest_b\u001b[0m \u001b[0;34m=\u001b[0m \u001b[0mnp\u001b[0m\u001b[0;34m.\u001b[0m\u001b[0marray\u001b[0m\u001b[0;34m(\u001b[0m\u001b[0mhasil_b\u001b[0m\u001b[0;34m)\u001b[0m\u001b[0;34m\u001b[0m\u001b[0;34m\u001b[0m\u001b[0m\n\u001b[1;32m     48\u001b[0m \u001b[0;31m# test_a.corr(test_b, method='pearson')\u001b[0m\u001b[0;34m\u001b[0m\u001b[0;34m\u001b[0m\u001b[0;34m\u001b[0m\u001b[0m\n\u001b[0;32m---> 49\u001b[0;31m \u001b[0mhasil_a\u001b[0m\u001b[0;34m.\u001b[0m\u001b[0mcorr\u001b[0m\u001b[0;34m(\u001b[0m\u001b[0mhasil_b\u001b[0m\u001b[0;34m,\u001b[0m\u001b[0mmethod\u001b[0m\u001b[0;34m=\u001b[0m\u001b[0;34m'pearson'\u001b[0m\u001b[0;34m)\u001b[0m\u001b[0;34m\u001b[0m\u001b[0;34m\u001b[0m\u001b[0m\n\u001b[0m",
            "\u001b[0;31mTypeError\u001b[0m: corr() got multiple values for argument 'method'"
          ]
        }
      ]
    },
    {
      "cell_type": "code",
      "metadata": {
        "id": "u4m9V_PwUhBm",
        "colab_type": "code",
        "colab": {}
      },
      "source": [
        "import math\n",
        "temp = ''\n",
        "temp_tgl = ''\n",
        "\n",
        "new_df = df.fillna('')\n",
        "\n",
        "for i,row in new_df.iterrows():\n",
        "  if row['id_user'] == '':\n",
        "    row['id_user'] = temp\n",
        "    row['tgl_akses'] = temp_tgl\n",
        "  elif temp != row['id_user']:\n",
        "    temp = row['id_user']\n",
        "    temp_tgl = row['tgl_akses']\n",
        "\n",
        "# new_df[50:]"
      ],
      "execution_count": null,
      "outputs": []
    },
    {
      "cell_type": "code",
      "metadata": {
        "id": "qvaRdU9Bkokz",
        "colab_type": "code",
        "colab": {}
      },
      "source": [
        "df.to_excel('/diki.xlsx')"
      ],
      "execution_count": null,
      "outputs": []
    }
  ]
}